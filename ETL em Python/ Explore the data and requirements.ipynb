{
 "cells": [
  {
   "attachments": {},
   "cell_type": "markdown",
   "metadata": {},
   "source": [
    "# Introdução ao ETL em Python"
   ]
  },
  {
   "cell_type": "code",
   "execution_count": 16,
   "metadata": {},
   "outputs": [
    {
     "name": "stdout",
     "output_type": "stream",
     "text": [
      "200\n"
     ]
    }
   ],
   "source": [
    "# Import the required library\n",
    "import requests\n",
    "\n",
    "path = 'https://github.com/viniciusperdigao/Engenharia-de-Dados/raw/main/ETL%20em%20Python/base/PPR-2021.zip'\n",
    "# Get the zip file\n",
    "response = requests.get(path)\n",
    "\n",
    "# Print the status code\n",
    "print(response.status_code)\n",
    "\n",
    "#Save the file locally \n",
    "local_path = \"./PPR-ALL.zip\"\n",
    "with open(local_path, \"wb\") as f:\n",
    "    f.write(response.content)"
   ]
  },
  {
   "attachments": {},
   "cell_type": "markdown",
   "metadata": {},
   "source": [
    "Acabamos de baixar a fonte dos dados e armazenamos em um diretório local. Mas o que realmente precisamos é do arquivo que ele contém: um CSV contendo dados sobre as transações imobiliárias e suas características."
   ]
  },
  {
   "cell_type": "code",
   "execution_count": 21,
   "metadata": {},
   "outputs": [
    {
     "name": "stdout",
     "output_type": "stream",
     "text": [
      "['PPR-2021.csv']\n"
     ]
    }
   ],
   "source": [
    "# Import the required method\n",
    "from zipfile import ZipFile\n",
    "\n",
    "path = './PPR-ALL.zip'\n",
    "\n",
    "with ZipFile(path, mode=\"r\") as f:\n",
    "  \t# Get the list of files and print it\n",
    "    file_names = f.namelist()\n",
    "    print(file_names)\n",
    "    # Extract the CSV file\n",
    "    csv_file_path = f.extract(file_names[0])\n",
    "    print(csv_file_path)"
   ]
  }
 ],
 "metadata": {
  "kernelspec": {
   "display_name": "Python 3",
   "language": "python",
   "name": "python3"
  },
  "language_info": {
   "codemirror_mode": {
    "name": "ipython",
    "version": 3
   },
   "file_extension": ".py",
   "mimetype": "text/x-python",
   "name": "python",
   "nbconvert_exporter": "python",
   "pygments_lexer": "ipython3",
   "version": "3.10.6"
  },
  "orig_nbformat": 4
 },
 "nbformat": 4,
 "nbformat_minor": 2
}
